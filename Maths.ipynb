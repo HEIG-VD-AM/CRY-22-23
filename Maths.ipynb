{
 "cells": [
  {
   "cell_type": "code",
   "execution_count": 2,
   "id": "9123f01c",
   "metadata": {},
   "outputs": [],
   "source": [
    "def pgcd_etendu(a, b):\n",
    "\n",
    "    # Initialiser les variables\n",
    "    r, u, v = a, 1, 0\n",
    "    r1, u1, v1 = b, 0, 1\n",
    "\n",
    "    print(\"({}, {}, {})\".format(r,u,v))\n",
    "\n",
    "    # Calculer les coefficients de l'identité de Bézout\n",
    "    while r1 != 0:\n",
    "        q = r // r1\n",
    "        r, r1 = r1, r - q * r1\n",
    "        u, u1 = u1, u - q * u1\n",
    "        v, v1 = v1, v - q * v1\n",
    "        print(\"({}, {}, {}), ({})\".format(r,u,v,q))\n",
    "    \n",
    "    print(\"\")\n",
    "\n",
    "    # Afficher l'identité de Bézout\n",
    "    d = r\n",
    "    s, t = u, v\n",
    "    print(\"Identité de Bézout : ({}) * ({}) + ({}) * ({}) = {}\".format(s, a, t, b, d))"
   ]
  },
  {
   "cell_type": "markdown",
   "id": "fbce83c3",
   "metadata": {},
   "source": [
    "# Nombres premiers"
   ]
  },
  {
   "cell_type": "code",
   "execution_count": 10,
   "id": "b050fc67",
   "metadata": {},
   "outputs": [
    {
     "data": {
      "text/plain": [
       "True"
      ]
     },
     "execution_count": 10,
     "metadata": {},
     "output_type": "execute_result"
    }
   ],
   "source": [
    "a = 127\n",
    "is_prime(a)"
   ]
  },
  {
   "cell_type": "markdown",
   "id": "963b6f5f",
   "metadata": {},
   "source": [
    "# Factorisation"
   ]
  },
  {
   "cell_type": "code",
   "execution_count": 6,
   "id": "b3439a67",
   "metadata": {},
   "outputs": [
    {
     "data": {
      "text/plain": [
       "2 * 5^3"
      ]
     },
     "execution_count": 6,
     "metadata": {},
     "output_type": "execute_result"
    }
   ],
   "source": [
    "a = 250\n",
    "factor(a)"
   ]
  },
  {
   "cell_type": "markdown",
   "id": "68186610",
   "metadata": {},
   "source": [
    "# Nombre de nombres premiers"
   ]
  },
  {
   "cell_type": "code",
   "execution_count": 29,
   "id": "7dcee0c5",
   "metadata": {},
   "outputs": [
    {
     "data": {
      "text/plain": [
       "4"
      ]
     },
     "execution_count": 29,
     "metadata": {},
     "output_type": "execute_result"
    }
   ],
   "source": [
    "len(prime_range(1,10)) "
   ]
  },
  {
   "cell_type": "markdown",
   "id": "e9aa3e14",
   "metadata": {},
   "source": [
    "# PGCD / Euclide étendu / Bézout"
   ]
  },
  {
   "cell_type": "code",
   "execution_count": 23,
   "id": "a961f469",
   "metadata": {},
   "outputs": [
    {
     "name": "stdout",
     "output_type": "stream",
     "text": [
      "(15, 1, 0)\n",
      "(12, 0, 1), (1)\n",
      "(3, 1, -1), (4)\n",
      "\n",
      "Identité de Bézout : (1) * (15) + (-1) * (12) = 3\n"
     ]
    }
   ],
   "source": [
    "pgcd_etendu(15, 12)"
   ]
  },
  {
   "cell_type": "markdown",
   "id": "40adc2f3",
   "metadata": {},
   "source": [
    "# ExpMod"
   ]
  },
  {
   "cell_type": "code",
   "execution_count": 14,
   "id": "eb9ae15f",
   "metadata": {},
   "outputs": [
    {
     "data": {
      "text/plain": [
       "1"
      ]
     },
     "execution_count": 14,
     "metadata": {},
     "output_type": "execute_result"
    }
   ],
   "source": [
    "# 5**3 mod 4\n",
    "power_mod(5,3,4)"
   ]
  },
  {
   "cell_type": "markdown",
   "id": "f805e37a",
   "metadata": {},
   "source": [
    "# Inverse modulaire"
   ]
  },
  {
   "cell_type": "code",
   "execution_count": 15,
   "id": "d8d91649",
   "metadata": {},
   "outputs": [
    {
     "data": {
      "text/plain": [
       "3"
      ]
     },
     "execution_count": 15,
     "metadata": {},
     "output_type": "execute_result"
    }
   ],
   "source": [
    "# 5^(-1) mod 13\n",
    "inverse_mod(5,14)"
   ]
  },
  {
   "cell_type": "markdown",
   "id": "fcc0c212",
   "metadata": {},
   "source": [
    "# Indicatrice d'Euler"
   ]
  },
  {
   "cell_type": "code",
   "execution_count": 5,
   "id": "51664bdf",
   "metadata": {},
   "outputs": [
    {
     "data": {
      "text/plain": [
       "100"
      ]
     },
     "execution_count": 5,
     "metadata": {},
     "output_type": "execute_result"
    }
   ],
   "source": [
    "a = 250\n",
    "\n",
    "euler_phi(a)"
   ]
  },
  {
   "cell_type": "markdown",
   "id": "311260e0",
   "metadata": {},
   "source": [
    "# Calculs dans un Z* défini"
   ]
  },
  {
   "cell_type": "code",
   "execution_count": 33,
   "id": "334d32b4",
   "metadata": {},
   "outputs": [
    {
     "data": {
      "text/plain": [
       "9"
      ]
     },
     "execution_count": 33,
     "metadata": {},
     "output_type": "execute_result"
    }
   ],
   "source": [
    "R = PolynomialRing(Zmod(47), 'x')\n",
    "a = R(3)\n",
    "b = R(5)\n",
    "c = R(46)\n",
    "a // b + c"
   ]
  },
  {
   "cell_type": "markdown",
   "id": "b2b49400",
   "metadata": {},
   "source": [
    "# Ordre d'un nombre dans un groupe"
   ]
  },
  {
   "cell_type": "code",
   "execution_count": 4,
   "id": "0320a9fb",
   "metadata": {},
   "outputs": [
    {
     "name": "stdout",
     "output_type": "stream",
     "text": [
      "2\n"
     ]
    }
   ],
   "source": [
    "# Ordre de 5 dans Z13\n",
    "p = 234568\n",
    "a = 234567\n",
    "order = IntegerModRing(p)(a).multiplicative_order()\n",
    "print(order)"
   ]
  },
  {
   "cell_type": "markdown",
   "id": "b039df84",
   "metadata": {},
   "source": [
    "# Ordre d'un groupe"
   ]
  },
  {
   "cell_type": "code",
   "execution_count": 1,
   "id": "6db786ca",
   "metadata": {},
   "outputs": [
    {
     "data": {
      "text/plain": [
       "24"
      ]
     },
     "execution_count": 1,
     "metadata": {},
     "output_type": "execute_result"
    }
   ],
   "source": [
    "euler_phi(45)"
   ]
  },
  {
   "cell_type": "markdown",
   "id": "06bfb01c",
   "metadata": {},
   "source": [
    "# Eléments dans Z*\n"
   ]
  },
  {
   "cell_type": "code",
   "execution_count": 11,
   "id": "fb78cdb5",
   "metadata": {
    "scrolled": false
   },
   "outputs": [
    {
     "name": "stdout",
     "output_type": "stream",
     "text": [
      "20 : [1, 2, 3, 4, 6, 7, 8, 9, 11, 12, 13, 14, 16, 17, 18, 19, 21, 22, 23, 24]\n"
     ]
    }
   ],
   "source": [
    "Base = 25\n",
    "R = IntegerModRing(Base)\n",
    "elements = [R(n) for n in range(1, Base) if gcd(n, Base) == 1]\n",
    "print(len(elements), \":\", elements)"
   ]
  },
  {
   "cell_type": "markdown",
   "id": "7dee6e30",
   "metadata": {},
   "source": [
    "# Irréductibilité polynôme"
   ]
  },
  {
   "cell_type": "code",
   "execution_count": 27,
   "id": "34f33e3c",
   "metadata": {},
   "outputs": [
    {
     "data": {
      "text/plain": [
       "True"
      ]
     },
     "execution_count": 27,
     "metadata": {},
     "output_type": "execute_result"
    }
   ],
   "source": [
    "R.<x> = PolynomialRing(GF(2), 'x')\n",
    "f = x^123 + x^2 + 1\n",
    "f.is_irreducible() "
   ]
  },
  {
   "cell_type": "markdown",
   "id": "6f051135",
   "metadata": {},
   "source": [
    "# Calculs avec des polynômes"
   ]
  },
  {
   "cell_type": "code",
   "execution_count": 22,
   "id": "6a05410a",
   "metadata": {},
   "outputs": [
    {
     "name": "stdout",
     "output_type": "stream",
     "text": [
      "xbar^2 + xbar + 1\n"
     ]
    }
   ],
   "source": [
    "# Définition de l'anneau quotient Z2[x]/(x^123 + x^2 + 1)\n",
    "R.<x> = PolynomialRing(Zmod(2), 'x')\n",
    "I = R.ideal(x^123 + x^2 + 1) \n",
    "A = R.quotient_ring(I)\n",
    "\n",
    "# Calcul de (x^122 + 1) * x dans Z2[x]/(x^123 + x^2 + 1)\n",
    "a = A(x^122 + 1)\n",
    "b = A(x)\n",
    "c = a * b\n",
    "\n",
    "# Affichage du résultat\n",
    "print(c)"
   ]
  },
  {
   "cell_type": "markdown",
   "id": "d9314904",
   "metadata": {},
   "source": [
    "# Inverse polynôme/Bézout dans Z[x]/m(x)"
   ]
  },
  {
   "cell_type": "code",
   "execution_count": 3,
   "id": "7c57cd47",
   "metadata": {},
   "outputs": [
    {
     "name": "stdout",
     "output_type": "stream",
     "text": [
      "(x^2 + 2, 1, 0)\n",
      "(x^3 + 2*x + 2, 0, 1), (0)\n",
      "(x^2 + 2, 1, 0), (x)\n",
      "(2, 2*x, 1), (2*x^2 + 1)\n",
      "\n",
      "Identité de Bézout : (2*x) * (x^2 + 2) + (1) * (x^3 + 2*x + 2) = 2\n",
      "Identité de Bézout : (x) * (x^2 + 2) + (2) * (x^3 + 2*x + 2) = 1\n"
     ]
    }
   ],
   "source": [
    "f = x**3 + 2*x + 2\n",
    "R.<x> = PolynomialRing(Zmod(3), 'x')\n",
    "I = R.ideal(f)           \n",
    "A = R.quotient_ring(I)                \n",
    "\n",
    "test = x**2 + 2\n",
    "\n",
    "pgcd_etendu(test, f)\n",
    "d, s, t = xgcd(test,f)\n",
    "print(\"Identité de Bézout : ({}) * ({}) + ({}) * ({}) = {}\".format(s, test, t, f, d))"
   ]
  },
  {
   "cell_type": "markdown",
   "id": "c0d7fb86",
   "metadata": {},
   "source": [
    "# Inverse polynôme/Bézout dans Z[x]"
   ]
  },
  {
   "cell_type": "code",
   "execution_count": 7,
   "id": "e71fe538",
   "metadata": {},
   "outputs": [
    {
     "name": "stdout",
     "output_type": "stream",
     "text": [
      "(x^3 + 2*x + 2, 1, 0)\n",
      "(x^2 + 2, 0, 1), (x)\n",
      "(2, 1, 2*x), (2*x^2 + 1)\n",
      "\n",
      "Identité de Bézout : (1) * (x^3 + 2*x + 2) + (2*x) * (x^2 + 2) = 2\n",
      "Polynôme unitaire :\n",
      "Identité de Bézout : (2) * (x^3 + 2*x + 2) + (x) * (x^2 + 2) = 1\n"
     ]
    }
   ],
   "source": [
    "R.<x> = PolynomialRing(Zmod(3), 'x')   # Définir Z3[x]\n",
    "a = x**3 + 2*x + 2  # Définir le premier polynôme\n",
    "b = x**2 + 2  # Définir le deuxième polynôme\n",
    "\n",
    "pgcd_etendu(a, b)\n",
    "\n",
    "print(\"Polynôme unitaire :\")\n",
    "d, s, t = xgcd(a,b)\n",
    "print(\"Identité de Bézout : ({}) * ({}) + ({}) * ({}) = {}\".format(s, a, t, b, d))"
   ]
  },
  {
   "cell_type": "markdown",
   "id": "c216f6f6",
   "metadata": {},
   "source": [
    "# Valeur d'un polynôme dans un anneau/corps"
   ]
  },
  {
   "cell_type": "code",
   "execution_count": 23,
   "id": "533d8266",
   "metadata": {},
   "outputs": [
    {
     "name": "stdout",
     "output_type": "stream",
     "text": [
      "1\n"
     ]
    }
   ],
   "source": [
    "R = PolynomialRing(GF(2), 'x')\n",
    "I = R.ideal(x**6 + x**4 + x**3 + x + 1)\n",
    "A = R.quotient_ring(I)\n",
    "\n",
    "# Affichage du résultat\n",
    "print(A(x**7))"
   ]
  },
  {
   "cell_type": "markdown",
   "id": "240c145d",
   "metadata": {},
   "source": [
    "# Eléments dans un corps"
   ]
  },
  {
   "cell_type": "code",
   "execution_count": 21,
   "id": "d5845fd3",
   "metadata": {},
   "outputs": [
    {
     "name": "stdout",
     "output_type": "stream",
     "text": [
      "0\n",
      "1\n",
      "xbar\n",
      "xbar + 1\n",
      "xbar^2\n",
      "xbar^2 + 1\n",
      "xbar^2 + xbar\n",
      "xbar^2 + xbar + 1\n"
     ]
    }
   ],
   "source": [
    "R = PolynomialRing(Zmod(2), 'x')\n",
    "m = R(x^3 + x + 1)\n",
    "I = R.ideal(m)\n",
    "A = R.quotient_ring(I)\n",
    "# A = GF(4, \"x\")\n",
    "\n",
    "for a in A:\n",
    "    print(a)"
   ]
  },
  {
   "cell_type": "markdown",
   "id": "5ba4c2ca",
   "metadata": {},
   "source": [
    "# Ordre élément dans un corps"
   ]
  },
  {
   "cell_type": "code",
   "execution_count": 9,
   "id": "029fc985",
   "metadata": {},
   "outputs": [
    {
     "name": "stdout",
     "output_type": "stream",
     "text": [
      "Ordre = 127\n"
     ]
    }
   ],
   "source": [
    "R.<x> = PolynomialRing(Zmod(2), 'x')\n",
    "f = x**7 + x + 1\n",
    "R_f = R.quotient_ring(f)\n",
    "g = x\n",
    "order = 1\n",
    "h = g\n",
    "while h != 1:\n",
    "    h = h * g % f\n",
    "    order += 1\n",
    "print(\"Ordre =\", order)"
   ]
  },
  {
   "cell_type": "markdown",
   "id": "3ae31be9",
   "metadata": {},
   "source": [
    "# Récupérer un polynôme irréductible pour un corps"
   ]
  },
  {
   "cell_type": "code",
   "execution_count": 8,
   "id": "ada4fcc7",
   "metadata": {},
   "outputs": [
    {
     "data": {
      "text/plain": [
       "x^3 + x + 1"
      ]
     },
     "execution_count": 8,
     "metadata": {},
     "output_type": "execute_result"
    }
   ],
   "source": [
    "F = GF(8)\n",
    "F.modulus()"
   ]
  },
  {
   "cell_type": "markdown",
   "id": "f50db49d",
   "metadata": {},
   "source": [
    "# Racines dans Zp"
   ]
  },
  {
   "cell_type": "code",
   "execution_count": 26,
   "id": "6bac52fb",
   "metadata": {},
   "outputs": [
    {
     "data": {
      "text/plain": [
       "[1, 34, 43, 76]"
      ]
     },
     "execution_count": 26,
     "metadata": {},
     "output_type": "execute_result"
    }
   ],
   "source": [
    "# Racine carrée de 1 dans Z35*\n",
    "p = 77\n",
    "F = Integers(p)\n",
    "F(1).sqrt(all=True)"
   ]
  },
  {
   "cell_type": "markdown",
   "id": "925f11ae",
   "metadata": {},
   "source": [
    "# Points d'une courbe"
   ]
  },
  {
   "cell_type": "code",
   "execution_count": 12,
   "id": "ba3b9ae1",
   "metadata": {},
   "outputs": [
    {
     "data": {
      "text/plain": [
       "[(0 : 1 : 0), (1 : 1 : 1), (1 : 4 : 1), (2 : 1 : 1), (2 : 4 : 1)]"
      ]
     },
     "execution_count": 12,
     "metadata": {},
     "output_type": "execute_result"
    }
   ],
   "source": [
    "# E = EllipticCurve(GF(p), [a,b])\n",
    "E = EllipticCurve(GF(5), [3,2])\n",
    "E.points()"
   ]
  },
  {
   "cell_type": "markdown",
   "id": "e8a1f822",
   "metadata": {},
   "source": [
    "# Opération des points"
   ]
  },
  {
   "cell_type": "code",
   "execution_count": 19,
   "id": "f723f1c5",
   "metadata": {},
   "outputs": [
    {
     "data": {
      "text/plain": [
       "(2 : 1 : 1)"
      ]
     },
     "execution_count": 19,
     "metadata": {},
     "output_type": "execute_result"
    }
   ],
   "source": [
    "E = EllipticCurve(GF(5), [3,2])\n",
    "P = E(1,1)\n",
    "2*P\n",
    "# 0 = Point à l'infini"
   ]
  },
  {
   "cell_type": "markdown",
   "id": "dbcd2169",
   "metadata": {},
   "source": [
    "# Ordre d'une courbe et d'un point"
   ]
  },
  {
   "cell_type": "code",
   "execution_count": 13,
   "id": "999b126e",
   "metadata": {},
   "outputs": [
    {
     "data": {
      "text/plain": [
       "18"
      ]
     },
     "execution_count": 13,
     "metadata": {},
     "output_type": "execute_result"
    }
   ],
   "source": [
    "E = EllipticCurve(GF(11), [1,3])\n",
    "# E.order()\n",
    "P.order()"
   ]
  },
  {
   "cell_type": "markdown",
   "id": "3364e162",
   "metadata": {},
   "source": [
    "# CRT"
   ]
  },
  {
   "cell_type": "code",
   "execution_count": 8,
   "id": "ea71e163",
   "metadata": {},
   "outputs": [
    {
     "data": {
      "text/plain": [
       "33"
      ]
     },
     "execution_count": 8,
     "metadata": {},
     "output_type": "execute_result"
    }
   ],
   "source": [
    "crt([5,3],[7,5])"
   ]
  },
  {
   "cell_type": "code",
   "execution_count": 1,
   "id": "fa82883a",
   "metadata": {},
   "outputs": [],
   "source": [
    "    p256 = 0xFFFFFFFF00000001000000000000000000000000FFFFFFFFFFFFFFFFFFFFFFFF\n",
    "    a256 = p256 - 3\n",
    "    b256 = 0x5AC635D8AA3A93E7B3EBBD55769886BC651D06B0CC53B0F63BCE3C3E27D2604B\n",
    "\n",
    "    gx = 0x6B17D1F2E12C4247F8BCE6E563A440F277037D812DEB33A0F4A13945D898C296\n",
    "    gy = 0x4FE342E2FE1A7F9B8EE7EB4A7C0F9E162BCE33576B315ECECBB6406837BF51F5\n",
    "    n = 0xFFFFFFFF00000000FFFFFFFFFFFFFFFFBCE6FAADA7179E84F3B9CAC2FC632551\n",
    "    E = EllipticCurve(GF(p256), [a256, b256])\n",
    "    G = E(gx, gy)"
   ]
  },
  {
   "cell_type": "code",
   "execution_count": 4,
   "id": "6278e1f7",
   "metadata": {},
   "outputs": [
    {
     "data": {
      "text/plain": [
       "True"
      ]
     },
     "execution_count": 4,
     "metadata": {},
     "output_type": "execute_result"
    }
   ],
   "source": [
    "E.order() == G.order()"
   ]
  },
  {
   "cell_type": "code",
   "execution_count": 9,
   "id": "1d1130ce",
   "metadata": {},
   "outputs": [
    {
     "data": {
      "text/plain": [
       "19650985112279669393942772401960731119594783454294617023657834637043180239865250584759612960793398126820121415552580384333838101475433084944862195748210941620164148769751242169976593151352913791214693210117229810015772178388689700711303636127139277928600690101613489716553476410302124387964846799909267820826959135592611498514201811129886594086351314219668657727778830871766736673494402454330923836340214475311727332976147749912676278872341710485725553831960746549826369518493636141375147351424213676598009369745074446724225200513887674516320810205632369577017728637270699864604823095099628651445860733834864611701799"
      ]
     },
     "execution_count": 9,
     "metadata": {},
     "output_type": "execute_result"
    }
   ],
   "source": [
    "from Crypto.PublicKey import RSA\n",
    "from Crypto.PublicKey.RSA import import_key\n",
    "from Crypto.Util.number import long_to_bytes\n",
    "pk14 = \"\"\"-----BEGIN PUBLIC KEY-----\n",
    "MIIBIDANBgkqhkiG9w0BAQEFAAOCAQ0AMIIBCAKCAQEAm6pxBv4X2SkKd4o0tJ27\n",
    "acezuYwdpSLeFrayj3Nvhx1vPDySCZzIac1xlpgYVrcAcloeNfNqc7sFht7Gj/HS\n",
    "N+aWB3o5tHCGrbaPo+o6ZtyZeia8CSqGA7BT6txzjXbpxA4gSl5GNqzUHFYa/KNy\n",
    "7UFqqOMEZS2g1spbS09/CElhFnuxRjkjnUuB47glNhG19k+78cfouerrZSUECWcN\n",
    "gDD9sODyog3wyXUvQ8wo4ZTeqsAcRH1A6xLFJ61lxlWYSlxXs9oEq5rGg40wUSqW\n",
    "i8bSL4ubPhJto/j7NzlKMP4KTRqfSp5DCwqAjCt96BmVfgGTRfW3KM809UHUeAo0\n",
    "JwIBAw==\n",
    "-----END PUBLIC KEY-----\"\"\"\n",
    "pk14 = RSA.importKey(pk14)\n",
    "pk14.n"
   ]
  },
  {
   "cell_type": "code",
   "execution_count": 11,
   "id": "33f77c47",
   "metadata": {
    "scrolled": true
   },
   "outputs": [
    {
     "data": {
      "text/plain": [
       "19927955730519402757961574741146848823277248511901404446252231542275619157932674008482230642720672974131315729995560497945230216961650638361835981357287545384431789701594260927698361541406629231944233487431291951226093407604058371371657929991088589840705211491216844794126305745213269958634396171834918050942596058849144145654706938765175212667490844091349443644703332966968711020498196166333122342229096459579178903977670525620097556333782068697303241041803353042491155854145397685840508824579272426303304172500700378409593957276005357848582938189310405440782343376987793328557099340845797177038264477434759567341837"
      ]
     },
     "execution_count": 11,
     "metadata": {},
     "output_type": "execute_result"
    }
   ],
   "source": [
    "random_prime(2^2048-1, lbound=2^2047)"
   ]
  },
  {
   "cell_type": "code",
   "execution_count": 22,
   "id": "a7b3a0b8",
   "metadata": {},
   "outputs": [
    {
     "name": "stdout",
     "output_type": "stream",
     "text": [
      "The signature is authentic.\n"
     ]
    }
   ],
   "source": [
    "from Crypto.Signature import pss\n",
    "from Crypto.Hash import SHA256\n",
    "from Crypto.PublicKey import RSA\n",
    "import base64\n",
    "\n",
    "\n",
    "\n",
    "def PSSverify(pubkey, message, signature):\n",
    "    pubkey =  RSA.import_key(pubkey)\n",
    "    h = SHA256.new(message)\n",
    "    verifier = pss.new(pubkey)\n",
    "    try:\n",
    "        verifier.verify(h, signature)\n",
    "        print(\"The signature is authentic.\")\n",
    "    except (ValueError, TypeError):\n",
    "        print(\"The signature is not authentic.\")\n",
    "\n",
    "\n",
    "if __name__ == \"__main__\":\n",
    "\n",
    "    pk2 = \"\"\"-----BEGIN PUBLIC KEY-----\n",
    "    MIIBIjANBgkqhkiG9w0BAQEFAAOCAQ8AMIIBCgKCAQEAuo1OuH9kwsaEnF6pEyBn\n",
    "    BOoBXhvK9Az5CFT5jpKK/6vDf5WaoiejW4yDYn5KzwtHofx28yanWFOtcxdISkTk\n",
    "    eeysAgID5nK/iGWULtaLJHx3lPyFC2cTXa/KMhZZC06pMIf2aKSDFb4pP82CgGiU\n",
    "    NDRMhMrWbQKJoJQyqQ+fZ+cuj9i6iR2l08B4EEZ0lh5b8W9401LZpWt9MnmoZaGE\n",
    "    k5zCtxV/9BVsN4g3JeyL+d0chdNavY+etnd3BYlFplgem5lm+zL3HZIUtYULeFAN\n",
    "    XDEfH9wW/CdDpWn1dgxeYdvajV477UpQaqFFdtl5PnRlpGoF83Usvn/n3zeRMEIk\n",
    "    BQIDAQAB\n",
    "    -----END PUBLIC KEY-----\"\"\"\n",
    "    m2 = \"You are allowed to land at Geneva airport on 02.02.2022 at 13h55\"\n",
    "    s2 = \"frpd8DKEnB5On+YyUjJzNnp/luSxTQW13yjyy1gwmhjKF33TtMY/UK5p4s1Stltgm1HfD3W8ahRPlwpSa1uvLmDBhxUZnlrGPmmJ2AiePjU/3fLWCoubYcL2QARKCg5mw7JFZsM3vnFgGKqB7GvXP7f55QoPIm+TLlg+J8Fekg1cCFoVA6d8r9dIXQfnzmfpgwCSKdm8ogQRoiYA81LNkBgkRD9U2X2482NMaBMKBhb2TIDGhR4muycOMQ9p5jVzeNqLc/TbWLyWWLpDJT65WYUqwDwgUzQZPRvF29xMwHqPoJfzvhCVQwA1Y+J0rkET3RvP+klUybuxUVZy+S3lzQ==\"\n",
    "    r2 = [21443139461406335336719094628849490034880873436747406087834088860312007320104788230832800734965782298045744344069554499444243458917882842999625809768540613189847712833924832946279977080895457274015764523662884601402728590710881233330392451164243002446798767116203742299764230445688787667234320358186734206808187842133780183171242306053442073370519262978321950639868059592610739129324048158756384627444335809445152195184410979557153261217217404675293510716803351566641009911813388299006841715579425489412862489733171429538065459312114154856818216312459466609568481926117897960574829518041260638291055944594574805819940, 18334306236929494982505098767770761472049652082057369258102231430208864378556049623831013916492589878018943757180840470460403208547426768863277449810249790541509701974858115210122728476024291781439094149744886693012668579141798457469739605630872778679178201115072990757879041365152347945197201408196587785084111552045884363887616830137311828644172092165808942109612359424103320857573155328293244354581092228138616306988395213425667295511172476789080085511736505757307515622312895374415920631989600135560414672286240733802569662439018287969478350197893859422447947334511021052755809188622441279457683621254922512318871, 5215699813402535231550730338478041755053989037266511941637581003157451456790900606773029263816334616503729474068442038927677663578969316294011121131949549594353095492773012253595860026264593185624135345297023638931474518286490272527247775060372675606973039054943544204117066398949228135131607949278039502480780492780222984977179096365068041149788860903950938015729242859385563448096941174384869175377207329902792305640775362627573005538213371284039957175907830800086519444545972174232972984662654061318948811813174671595352722410496364738476372292309290415160571471223284350431998070123023433932081869563874958041710, 2106866588925694877336734477399313192222767682576475111905723573054308515242161999771242445343142196476928887179728009943837413208513242157662761173658726946015084633706294517438611421393427693047464971379025730541414506717407496666594929527002451839352473053812792662231877318412788413094488999287893080756704202692327165693553620448937796423441690091437929485473542690878145176346048343921728902513963748596256417444759596496087039832168443397826531970840984990753025155045479249642051901072828707466500994366243975859856925537400497851136506177743683228040036879616407442612977740704204075098709546224222664540641]\n",
    "\n",
    "\n",
    "    # Test de la fonction de vérication de la signature\n",
    "    PSSverify(pk2, m2.encode('utf-8'), base64.b64decode(s2.encode('utf-8')))\n",
    "\n",
    "\n",
    "    # Exploitation de la vulnérabilité\n",
    "\n",
    "    public_key =  RSA.import_key(pk2)\n",
    "\n",
    "    # Calcul d'un multiple de p ou q.\n",
    "    multiple = r2[1] + r2[3]\n",
    "\n",
    "    # Calcul du pgcd entre le multiple et n, ce qui va nous donner p ou q.\n",
    "    gcd = gcd(multiple, public_key.n)\n",
    "\n",
    "    # Calcul de l'autre composante de n. Si on avait p, on a q et inversement.\n",
    "    other_component= public_key.n // gcd"
   ]
  },
  {
   "cell_type": "code",
   "execution_count": 23,
   "id": "c4b765a6",
   "metadata": {},
   "outputs": [
    {
     "data": {
      "text/plain": [
       "131555433700694193791512807368600121926199712100468829393018781919037347148646646122621445811061603590386035252026104258016986081805769065608277247557418374415789629057688668765354325466823019763830835926895079231619397783588911479234094529426532704969345170297591762140597569298876665489798888772870521681311"
      ]
     },
     "execution_count": 23,
     "metadata": {},
     "output_type": "execute_result"
    }
   ],
   "source": [
    "gcd"
   ]
  },
  {
   "cell_type": "code",
   "execution_count": 24,
   "id": "f5fca5ba",
   "metadata": {},
   "outputs": [
    {
     "data": {
      "text/plain": [
       "179012036127001580246931284531200307544170174852041603264618288778483776076789141088088672650840438332461798455665392997923932986371557695294849565096125407971524148962016131361006991567612673811845051559809029523081527249215942159608910053124529526580095718235878698386505106826571896691362639996440748612571"
      ]
     },
     "execution_count": 24,
     "metadata": {},
     "output_type": "execute_result"
    }
   ],
   "source": [
    "other_component"
   ]
  },
  {
   "cell_type": "code",
   "execution_count": 25,
   "id": "0dfb6331",
   "metadata": {},
   "outputs": [
    {
     "data": {
      "text/plain": [
       "108175297434752371770978163498715025986420173882976334865329749309828957947117591695716800288446207909008205322266751268306865904681733120308135592381963376603127626680235367916728570581315613906197311202626551158677068014059823914109683387783645969883805280142566596474889002226953939066720701279859300784131"
      ]
     },
     "execution_count": 25,
     "metadata": {},
     "output_type": "execute_result"
    }
   ],
   "source": [
    "random_prime(2^1024-1, lbound=2^1023)"
   ]
  },
  {
   "cell_type": "code",
   "execution_count": 28,
   "id": "ba388ed0",
   "metadata": {},
   "outputs": [
    {
     "data": {
      "text/plain": [
       "8"
      ]
     },
     "execution_count": 28,
     "metadata": {},
     "output_type": "execute_result"
    }
   ],
   "source": [
    "inverse_mod(7,11)"
   ]
  },
  {
   "cell_type": "code",
   "execution_count": 30,
   "id": "f0531a7e",
   "metadata": {},
   "outputs": [
    {
     "data": {
      "text/plain": [
       "43"
      ]
     },
     "execution_count": 30,
     "metadata": {},
     "output_type": "execute_result"
    }
   ],
   "source": [
    "(10*8*7 + 22) % 77"
   ]
  },
  {
   "cell_type": "code",
   "execution_count": null,
   "id": "0a909985",
   "metadata": {},
   "outputs": [],
   "source": []
  }
 ],
 "metadata": {
  "kernelspec": {
   "display_name": "SageMath 9.5",
   "language": "sage",
   "name": "sagemath"
  },
  "language_info": {
   "codemirror_mode": {
    "name": "ipython",
    "version": 3
   },
   "file_extension": ".py",
   "mimetype": "text/x-python",
   "name": "python",
   "nbconvert_exporter": "python",
   "pygments_lexer": "ipython3",
   "version": "3.10.6"
  }
 },
 "nbformat": 4,
 "nbformat_minor": 5
}
