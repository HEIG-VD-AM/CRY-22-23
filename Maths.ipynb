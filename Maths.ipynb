{
 "cells": [
  {
   "cell_type": "code",
   "execution_count": 2,
   "metadata": {},
   "outputs": [],
   "source": [
    "def pgcd_etendu(a, b):\n",
    "\n",
    "    # Initialiser les variables\n",
    "    r, u, v = a, 1, 0\n",
    "    r1, u1, v1 = b, 0, 1\n",
    "\n",
    "    print(\"({}, {}, {})\".format(r,u,v))\n",
    "\n",
    "    # Calculer les coefficients de l'identité de Bézout\n",
    "    while r1 != 0:\n",
    "        q = r // r1\n",
    "        r, r1 = r1, r - q * r1\n",
    "        u, u1 = u1, u - q * u1\n",
    "        v, v1 = v1, v - q * v1\n",
    "        print(\"({}, {}, {}), ({})\".format(r,u,v,q))\n",
    "    \n",
    "    print(\"\")\n",
    "\n",
    "    # Afficher l'identité de Bézout\n",
    "    d = r\n",
    "    s, t = u, v\n",
    "    print(\"Identité de Bézout : ({}) * ({}) + ({}) * ({}) = {}\".format(s, a, t, b, d))"
   ]
  },
  {
   "cell_type": "markdown",
   "metadata": {},
   "source": [
    "# Nombres premiers"
   ]
  },
  {
   "cell_type": "code",
   "execution_count": 10,
   "metadata": {},
   "outputs": [
    {
     "data": {
      "text/plain": [
       "True"
      ]
     },
     "execution_count": 10,
     "metadata": {},
     "output_type": "execute_result"
    }
   ],
   "source": [
    "a = 127\n",
    "is_prime(a)"
   ]
  },
  {
   "cell_type": "markdown",
   "metadata": {},
   "source": [
    "# Factorisation"
   ]
  },
  {
   "cell_type": "code",
   "execution_count": 6,
   "metadata": {},
   "outputs": [
    {
     "data": {
      "text/plain": [
       "2 * 5^3"
      ]
     },
     "execution_count": 6,
     "metadata": {},
     "output_type": "execute_result"
    }
   ],
   "source": [
    "a = 250\n",
    "factor(a)"
   ]
  },
  {
   "cell_type": "markdown",
   "metadata": {},
   "source": [
    "# Nombre de nombres premiers"
   ]
  },
  {
   "cell_type": "code",
   "execution_count": 29,
   "metadata": {},
   "outputs": [
    {
     "data": {
      "text/plain": [
       "4"
      ]
     },
     "execution_count": 29,
     "metadata": {},
     "output_type": "execute_result"
    }
   ],
   "source": [
    "len(prime_range(1,10)) "
   ]
  },
  {
   "cell_type": "markdown",
   "metadata": {},
   "source": [
    "# PGCD / Euclide étendu / Bézout"
   ]
  },
  {
   "cell_type": "code",
   "execution_count": 23,
   "metadata": {},
   "outputs": [
    {
     "name": "stdout",
     "output_type": "stream",
     "text": [
      "(15, 1, 0)\n",
      "(12, 0, 1), (1)\n",
      "(3, 1, -1), (4)\n",
      "\n",
      "Identité de Bézout : (1) * (15) + (-1) * (12) = 3\n"
     ]
    }
   ],
   "source": [
    "pgcd_etendu(15, 12)"
   ]
  },
  {
   "cell_type": "markdown",
   "metadata": {},
   "source": [
    "# ExpMod"
   ]
  },
  {
   "cell_type": "code",
   "execution_count": 14,
   "metadata": {},
   "outputs": [
    {
     "data": {
      "text/plain": [
       "1"
      ]
     },
     "execution_count": 14,
     "metadata": {},
     "output_type": "execute_result"
    }
   ],
   "source": [
    "# 5**3 mod 4\n",
    "power_mod(5,3,4)"
   ]
  },
  {
   "cell_type": "markdown",
   "metadata": {},
   "source": [
    "# Inverse modulaire"
   ]
  },
  {
   "cell_type": "code",
   "execution_count": 15,
   "metadata": {},
   "outputs": [
    {
     "data": {
      "text/plain": [
       "3"
      ]
     },
     "execution_count": 15,
     "metadata": {},
     "output_type": "execute_result"
    }
   ],
   "source": [
    "# 5^(-1) mod 13\n",
    "inverse_mod(5,14)"
   ]
  },
  {
   "cell_type": "markdown",
   "metadata": {},
   "source": [
    "# Indicatrice d'Euler"
   ]
  },
  {
   "cell_type": "code",
   "execution_count": 5,
   "metadata": {},
   "outputs": [
    {
     "data": {
      "text/plain": [
       "100"
      ]
     },
     "execution_count": 5,
     "metadata": {},
     "output_type": "execute_result"
    }
   ],
   "source": [
    "a = 250\n",
    "\n",
    "euler_phi(a)"
   ]
  },
  {
   "cell_type": "markdown",
   "metadata": {},
   "source": [
    "# Calculs dans un Z* défini"
   ]
  },
  {
   "cell_type": "code",
   "execution_count": 33,
   "metadata": {},
   "outputs": [
    {
     "data": {
      "text/plain": [
       "9"
      ]
     },
     "execution_count": 33,
     "metadata": {},
     "output_type": "execute_result"
    }
   ],
   "source": [
    "R = PolynomialRing(Zmod(47), 'x')\n",
    "a = R(3)\n",
    "b = R(5)\n",
    "c = R(46)\n",
    "a // b + c"
   ]
  },
  {
   "cell_type": "markdown",
   "metadata": {},
   "source": [
    "# Ordre d'un nombre dans un groupe"
   ]
  },
  {
   "cell_type": "code",
   "execution_count": 4,
   "metadata": {},
   "outputs": [
    {
     "name": "stdout",
     "output_type": "stream",
     "text": [
      "2\n"
     ]
    }
   ],
   "source": [
    "# Ordre de 5 dans Z13\n",
    "p = 234568\n",
    "a = 234567\n",
    "order = IntegerModRing(p)(a).multiplicative_order()\n",
    "print(order)"
   ]
  },
  {
   "cell_type": "markdown",
   "metadata": {},
   "source": [
    "# Ordre d'un groupe"
   ]
  },
  {
   "cell_type": "code",
   "execution_count": 1,
   "metadata": {},
   "outputs": [
    {
     "data": {
      "text/plain": [
       "24"
      ]
     },
     "execution_count": 1,
     "metadata": {},
     "output_type": "execute_result"
    }
   ],
   "source": [
    "euler_phi(45)"
   ]
  },
  {
   "cell_type": "markdown",
   "metadata": {},
   "source": [
    "# Eléments dans Z*\n"
   ]
  },
  {
   "cell_type": "code",
   "execution_count": 11,
   "metadata": {
    "scrolled": false
   },
   "outputs": [
    {
     "name": "stdout",
     "output_type": "stream",
     "text": [
      "20 : [1, 2, 3, 4, 6, 7, 8, 9, 11, 12, 13, 14, 16, 17, 18, 19, 21, 22, 23, 24]\n"
     ]
    }
   ],
   "source": [
    "Base = 25\n",
    "R = IntegerModRing(Base)\n",
    "elements = [R(n) for n in range(1, Base) if gcd(n, Base) == 1]\n",
    "print(len(elements), \":\", elements)"
   ]
  },
  {
   "cell_type": "markdown",
   "metadata": {},
   "source": [
    "# Irréductibilité polynôme"
   ]
  },
  {
   "cell_type": "code",
   "execution_count": 27,
   "metadata": {},
   "outputs": [
    {
     "data": {
      "text/plain": [
       "True"
      ]
     },
     "execution_count": 27,
     "metadata": {},
     "output_type": "execute_result"
    }
   ],
   "source": [
    "R.<x> = PolynomialRing(GF(2), 'x')\n",
    "f = x^123 + x^2 + 1\n",
    "f.is_irreducible() "
   ]
  },
  {
   "cell_type": "markdown",
   "metadata": {},
   "source": [
    "# Calculs avec des polynômes"
   ]
  },
  {
   "cell_type": "code",
   "execution_count": 22,
   "metadata": {},
   "outputs": [
    {
     "name": "stdout",
     "output_type": "stream",
     "text": [
      "xbar^2 + xbar + 1\n"
     ]
    }
   ],
   "source": [
    "# Définition de l'anneau quotient Z2[x]/(x^123 + x^2 + 1)\n",
    "R.<x> = PolynomialRing(Zmod(2), 'x')\n",
    "I = R.ideal(x^123 + x^2 + 1) \n",
    "A = R.quotient_ring(I)\n",
    "\n",
    "# Calcul de (x^122 + 1) * x dans Z2[x]/(x^123 + x^2 + 1)\n",
    "a = A(x^122 + 1)\n",
    "b = A(x)\n",
    "c = a * b\n",
    "\n",
    "# Affichage du résultat\n",
    "print(c)"
   ]
  },
  {
   "cell_type": "markdown",
   "metadata": {},
   "source": [
    "# Inverse polynôme/Bézout dans Z[x]/m(x)"
   ]
  },
  {
   "cell_type": "code",
   "execution_count": 3,
   "metadata": {},
   "outputs": [
    {
     "name": "stdout",
     "output_type": "stream",
     "text": [
      "(x^2 + 2, 1, 0)\n",
      "(x^3 + 2*x + 2, 0, 1), (0)\n",
      "(x^2 + 2, 1, 0), (x)\n",
      "(2, 2*x, 1), (2*x^2 + 1)\n",
      "\n",
      "Identité de Bézout : (2*x) * (x^2 + 2) + (1) * (x^3 + 2*x + 2) = 2\n",
      "Identité de Bézout : (x) * (x^2 + 2) + (2) * (x^3 + 2*x + 2) = 1\n"
     ]
    }
   ],
   "source": [
    "f = x**3 + 2*x + 2\n",
    "R.<x> = PolynomialRing(Zmod(3), 'x')\n",
    "I = R.ideal(f)           \n",
    "A = R.quotient_ring(I)                \n",
    "\n",
    "test = x**2 + 2\n",
    "\n",
    "pgcd_etendu(test, f)\n",
    "d, s, t = xgcd(test,f)\n",
    "print(\"Identité de Bézout : ({}) * ({}) + ({}) * ({}) = {}\".format(s, test, t, f, d))"
   ]
  },
  {
   "cell_type": "markdown",
   "metadata": {},
   "source": [
    "# Inverse polynôme/Bézout dans Z[x]"
   ]
  },
  {
   "cell_type": "code",
   "execution_count": 7,
   "metadata": {},
   "outputs": [
    {
     "name": "stdout",
     "output_type": "stream",
     "text": [
      "(x^3 + 2*x + 2, 1, 0)\n",
      "(x^2 + 2, 0, 1), (x)\n",
      "(2, 1, 2*x), (2*x^2 + 1)\n",
      "\n",
      "Identité de Bézout : (1) * (x^3 + 2*x + 2) + (2*x) * (x^2 + 2) = 2\n",
      "Polynôme unitaire :\n",
      "Identité de Bézout : (2) * (x^3 + 2*x + 2) + (x) * (x^2 + 2) = 1\n"
     ]
    }
   ],
   "source": [
    "R.<x> = PolynomialRing(Zmod(3), 'x')   # Définir Z3[x]\n",
    "a = x**3 + 2*x + 2  # Définir le premier polynôme\n",
    "b = x**2 + 2  # Définir le deuxième polynôme\n",
    "\n",
    "pgcd_etendu(a, b)\n",
    "\n",
    "print(\"Polynôme unitaire :\")\n",
    "d, s, t = xgcd(a,b)\n",
    "print(\"Identité de Bézout : ({}) * ({}) + ({}) * ({}) = {}\".format(s, a, t, b, d))"
   ]
  },
  {
   "cell_type": "markdown",
   "metadata": {},
   "source": [
    "# Valeur d'un polynôme dans un anneau/corps"
   ]
  },
  {
   "cell_type": "code",
   "execution_count": 23,
   "metadata": {},
   "outputs": [
    {
     "name": "stdout",
     "output_type": "stream",
     "text": [
      "1\n"
     ]
    }
   ],
   "source": [
    "R = PolynomialRing(GF(2), 'x')\n",
    "I = R.ideal(x**6 + x**4 + x**3 + x + 1)\n",
    "A = R.quotient_ring(I)\n",
    "\n",
    "# Affichage du résultat\n",
    "print(A(x**7))"
   ]
  },
  {
   "cell_type": "markdown",
   "metadata": {},
   "source": [
    "# Eléments dans un corps"
   ]
  },
  {
   "cell_type": "code",
   "execution_count": 21,
   "metadata": {},
   "outputs": [
    {
     "name": "stdout",
     "output_type": "stream",
     "text": [
      "0\n",
      "1\n",
      "xbar\n",
      "xbar + 1\n",
      "xbar^2\n",
      "xbar^2 + 1\n",
      "xbar^2 + xbar\n",
      "xbar^2 + xbar + 1\n"
     ]
    }
   ],
   "source": [
    "R = PolynomialRing(Zmod(2), 'x')\n",
    "m = R(x^3 + x + 1)\n",
    "I = R.ideal(m)\n",
    "A = R.quotient_ring(I)\n",
    "# A = GF(4, \"x\")\n",
    "\n",
    "for a in A:\n",
    "    print(a)"
   ]
  },
  {
   "cell_type": "markdown",
   "metadata": {},
   "source": [
    "# Ordre élément dans un corps"
   ]
  },
  {
   "cell_type": "code",
   "execution_count": 9,
   "metadata": {},
   "outputs": [
    {
     "name": "stdout",
     "output_type": "stream",
     "text": [
      "Ordre = 127\n"
     ]
    }
   ],
   "source": [
    "R.<x> = PolynomialRing(Zmod(2), 'x')\n",
    "f = x**7 + x + 1\n",
    "R_f = R.quotient_ring(f)\n",
    "g = x\n",
    "order = 1\n",
    "h = g\n",
    "while h != 1:\n",
    "    h = h * g % f\n",
    "    order += 1\n",
    "print(\"Ordre =\", order)"
   ]
  },
  {
   "cell_type": "markdown",
   "metadata": {},
   "source": [
    "# Récupérer un polynôme irréductible pour un corps"
   ]
  },
  {
   "cell_type": "code",
   "execution_count": 8,
   "metadata": {},
   "outputs": [
    {
     "data": {
      "text/plain": [
       "x^3 + x + 1"
      ]
     },
     "execution_count": 8,
     "metadata": {},
     "output_type": "execute_result"
    }
   ],
   "source": [
    "F = GF(8)\n",
    "F.modulus()"
   ]
  },
  {
   "cell_type": "markdown",
   "metadata": {},
   "source": [
    "# Racines dans Zp"
   ]
  },
  {
   "cell_type": "code",
   "execution_count": 26,
   "metadata": {},
   "outputs": [
    {
     "data": {
      "text/plain": [
       "[1, 34, 43, 76]"
      ]
     },
     "execution_count": 26,
     "metadata": {},
     "output_type": "execute_result"
    }
   ],
   "source": [
    "# Racine carrée de 1 dans Z35*\n",
    "p = 77\n",
    "F = Integers(p)\n",
    "F(1).sqrt(all=True)"
   ]
  },
  {
   "cell_type": "markdown",
   "metadata": {},
   "source": [
    "# Points d'une courbe"
   ]
  },
  {
   "cell_type": "code",
   "execution_count": 12,
   "metadata": {},
   "outputs": [
    {
     "data": {
      "text/plain": [
       "[(0 : 1 : 0), (1 : 1 : 1), (1 : 4 : 1), (2 : 1 : 1), (2 : 4 : 1)]"
      ]
     },
     "execution_count": 12,
     "metadata": {},
     "output_type": "execute_result"
    }
   ],
   "source": [
    "# E = EllipticCurve(GF(p), [a,b])\n",
    "E = EllipticCurve(GF(5), [3,2])\n",
    "E.points()"
   ]
  },
  {
   "cell_type": "markdown",
   "metadata": {},
   "source": [
    "# Opération des points"
   ]
  },
  {
   "cell_type": "code",
   "execution_count": 19,
   "metadata": {},
   "outputs": [
    {
     "data": {
      "text/plain": [
       "(2 : 1 : 1)"
      ]
     },
     "execution_count": 19,
     "metadata": {},
     "output_type": "execute_result"
    }
   ],
   "source": [
    "E = EllipticCurve(GF(5), [3,2])\n",
    "P = E(1,1)\n",
    "2*P\n",
    "# 0 = Point à l'infini"
   ]
  },
  {
   "cell_type": "markdown",
   "metadata": {},
   "source": [
    "# Ordre d'une courbe et d'un point"
   ]
  },
  {
   "cell_type": "code",
   "execution_count": 13,
   "metadata": {},
   "outputs": [
    {
     "data": {
      "text/plain": [
       "18"
      ]
     },
     "execution_count": 13,
     "metadata": {},
     "output_type": "execute_result"
    }
   ],
   "source": [
    "E = EllipticCurve(GF(11), [1,3])\n",
    "# E.order()\n",
    "P.order()"
   ]
  },
  {
   "cell_type": "markdown",
   "metadata": {},
   "source": [
    "# CRT"
   ]
  },
  {
   "cell_type": "code",
   "execution_count": 8,
   "metadata": {},
   "outputs": [
    {
     "data": {
      "text/plain": [
       "33"
      ]
     },
     "execution_count": 8,
     "metadata": {},
     "output_type": "execute_result"
    }
   ],
   "source": [
    "crt([5,3],[7,5])"
   ]
  }
 ],
 "metadata": {
  "kernelspec": {
   "display_name": "SageMath 8.2",
   "language": "",
   "name": "sagemath"
  },
  "language_info": {
   "codemirror_mode": {
    "name": "ipython",
    "version": 2
   },
   "file_extension": ".py",
   "mimetype": "text/x-python",
   "name": "python",
   "nbconvert_exporter": "python",
   "pygments_lexer": "ipython2",
   "version": "2.7.14"
  }
 },
 "nbformat": 4,
 "nbformat_minor": 5
}
